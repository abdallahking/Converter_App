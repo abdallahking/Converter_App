{
  "nbformat": 4,
  "nbformat_minor": 0,
  "metadata": {
    "colab": {
      "provenance": []
    },
    "kernelspec": {
      "name": "python3",
      "display_name": "Python 3"
    },
    "language_info": {
      "name": "python"
    }
  },
  "cells": [
    {
      "cell_type": "markdown",
      "source": [
        "##The Third Project **:**\n",
        "**(**Converter App**)**"
      ],
      "metadata": {
        "id": "YvJfQSISItfU"
      }
    },
    {
      "cell_type": "code",
      "source": [
        "print('''==========================\n",
        "WELCOME IN CONVERTER APP\n",
        "================================================================================================================================================''')\n",
        "user_choose = input('''choose one of :\n",
        "1) turn from Celsius to Fahrenheit or the opposite.\n",
        "2) turn from meter to centimeter or The opposite.\n",
        "3) turn from kilogram to gram or the opposite.\n",
        "   [Write : (1, 2, or 3)].\n",
        ">>> : ''')\n",
        "if user_choose == \"1\":\n",
        "  unit = input('''Are you want to turn from (Celsius) to (Fahrenheit) or the opposite?\n",
        "  [write (f) to turn from (Fahrenheit) to (Celsius).]\n",
        "  [write (c) to turn from (Celsius) to (Fahrenheit).]\n",
        "    >>> : ''')\n",
        "  unit = unit.lower()\n",
        "  Temp = float(input(f'''You choose {unit}, then write the temp(num).\n",
        "  >>> : '''))\n",
        "  if unit == \"c\":\n",
        "    Temp = round((9 * Temp) / 5 + 32, 1)\n",
        "    print(f'''The temp in Fahrenheit is {Temp}°F.\n",
        "    ''')\n",
        "  elif unit == \"f\":\n",
        "    Temp = round((Temp - 32) * 5 / 9, 1)\n",
        "    print(f'''The temp in Celsius is {Temp}°C.\n",
        "    ''')\n",
        "  else :\n",
        "    print(f\"{unit} is an invalid unit of measurement.\")\n",
        "  print('''================================================================================================================================================\n",
        "END OF THE BROGRAME\n",
        "===================== ''')\n",
        "elif user_choose == '2':\n",
        "  m_or_cm = input('''Are you want to turn from (meter) to (centimeter), or The opposite.\n",
        "  [Write (m) to turn from meter to centimeter.]\n",
        "  [Write (cm) to turn from centimeter to meter.]\n",
        "    >>> : ''')\n",
        "  distance = int(input(f'''You choose {m_or_cm}, Then write the distance(num)\n",
        "  >>> : '''))\n",
        "  if m_or_cm.lower() == \"m\":\n",
        "    centimeter = distance * 100\n",
        "    print(f'''your distance in centimeter is {centimeter} cm''')\n",
        "  elif m_or_cm.lower() == \"cm\":\n",
        "    meter = distance / 100\n",
        "    print(f'''your distance in meter is {meter} m''')\n",
        "  else :\n",
        "    print(f\"{m_or_cm} is an invalid unit of measurement.\")\n",
        "  print('''================================================================================================================================================\n",
        "END OF THE BROGRAME\n",
        "===================== ''')\n",
        "if user_choose == \"3\":\n",
        "  Unit = input('''Are you want to turn from (kilogram) to (gram) or the opposite.\n",
        "  [Write (Kg) to turn from kilogram to gram.]\n",
        "  [Write (gr) to turn from gram to kilogram.]\n",
        "  >>> : ''')\n",
        "  weight = int(input(f'''you choose {Unit}, Then write the weight(num).\n",
        "  >>> : '''))\n",
        "  if Unit.lower() == \"Kg\":\n",
        "    gram = weight * 1000\n",
        "    print(f\"Your weight in gram is {gram}gr.\")\n",
        "  elif Unit.lower() == \"gr\":\n",
        "    kilogram = weight / 1000\n",
        "    print(f\"Your weight in kilogram is {kilogram}Kg.\")\n",
        "  else :\n",
        "    print(f\"{Unit} is an invalid unit of measurement.\")\n",
        "  print('''================================================================================================================================================\n",
        "END OF THE BROGRAME\n",
        "===================== ''')"
      ],
      "metadata": {
        "id": "goN5cWFBI1-9"
      },
      "execution_count": null,
      "outputs": []
    }
  ]
}